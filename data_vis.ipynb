{
 "cells": [
  {
   "cell_type": "code",
   "execution_count": null,
   "id": "42ecebe8",
   "metadata": {},
   "outputs": [],
   "source": [
    "session = '2025.01.09'\n",
    "# NOTE: Clear the output before you push!!!"
   ]
  },
  {
   "cell_type": "code",
   "execution_count": null,
   "id": "ead50dd5",
   "metadata": {},
   "outputs": [],
   "source": [
    "from pathlib import Path\n",
    "import numpy as np\n",
    "\n",
    "dataDir = Path('Data/BG', session)\n",
    "X = np.load(dataDir / 'data.npz')['X']\n",
    "y = np.load(dataDir / 'data.npz')['y']\n",
    "\n",
    "print('X shape:', X.shape)\n",
    "print('Cues:', y)\n",
    "\n",
    "# Change the labels to range(0, num_classes)\n",
    "label_mapping = {label: i for i, label in enumerate(set(y.tolist()))}\n",
    "y = [label_mapping[label.item()] for label in y]\n",
    "\n",
    "print(y)"
   ]
  },
  {
   "cell_type": "code",
   "execution_count": null,
   "id": "2106652b",
   "metadata": {},
   "outputs": [],
   "source": [
    "# Plot LDA for data\n",
    "import matplotlib.pyplot as plt\n",
    "from sklearn.discriminant_analysis import LinearDiscriminantAnalysis\n",
    "lda = LinearDiscriminantAnalysis(n_components=2)\n",
    "X_lda = lda.fit_transform(np.mean(X, axis=1), y)\n",
    "\n",
    "from utils import plot_lda\n",
    "plot_lda(X_lda, y)"
   ]
  }
 ],
 "metadata": {
  "kernelspec": {
   "display_name": "NeuraNIL",
   "language": "python",
   "name": "python3"
  },
  "language_info": {
   "codemirror_mode": {
    "name": "ipython",
    "version": 3
   },
   "file_extension": ".py",
   "mimetype": "text/x-python",
   "name": "python",
   "nbconvert_exporter": "python",
   "pygments_lexer": "ipython3",
   "version": "3.12.9"
  }
 },
 "nbformat": 4,
 "nbformat_minor": 5
}
